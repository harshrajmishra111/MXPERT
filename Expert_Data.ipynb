{
 "cells": [
  {
   "cell_type": "code",
   "execution_count": null,
   "id": "b4e9b14f",
   "metadata": {},
   "outputs": [],
   "source": [
    "import pandas as pd\n",
    "\n",
    "# Load the dataset\n",
    "file_path = \" \"\n",
    "df = pd.read_csv(file_path)\n",
    "\n",
    "# Display the summary of the dataset\n",
    "print(\"Summary of the dataset:\")\n",
    "print(df.describe(include='all'))\n",
    "\n",
    "# Check for missing values\n",
    "print(\"\\nMissing values in each column:\")\n",
    "print(df.isnull().sum())\n",
    "\n",
    "# If you want to see the rows with missing values\n",
    "print(\"\\nRows with missing values:\")\n",
    "print(df[df.isnull().any(axis=1)])"
   ]
  },
  {
   "cell_type": "code",
   "execution_count": null,
   "id": "b4405ea4",
   "metadata": {},
   "outputs": [],
   "source": [
    "df.head(60)"
   ]
  },
  {
   "cell_type": "code",
   "execution_count": null,
   "id": "b500df82",
   "metadata": {},
   "outputs": [],
   "source": [
    "# Remove duplicate rows based on the 'Expert name' column\n",
    "df_unique = df.drop_duplicates(subset=\"Expert name\")\n",
    "\n",
    "# Display the summary of the dataset after removing duplicates\n",
    "print(\"Summary of the dataset after removing duplicates:\")\n",
    "print(df_unique.describe(include='all'))"
   ]
  },
  {
   "cell_type": "code",
   "execution_count": null,
   "id": "43a2b5c4",
   "metadata": {},
   "outputs": [],
   "source": [
    "# Add 'Dr.' prefix to 'Expert name' if 'Qualifications' is 'PhD'\n",
    "df_unique['Expert name'] = df_unique.apply(\n",
    "    lambda row: f\"Dr. {row['Expert name']}\" if row['Qualifications'] == 'PhD' else row['Expert name'],\n",
    "    axis=1\n",
    "\n",
    ")\n",
    "\n",
    "# Display the updated dataset\n",
    "print(\"Updated dataset with 'Dr.' prefix for PhD holders:\")\n",
    "print(df_unique[['Expert name', 'Qualifications']].head()) # Show first few rows for verification"
   ]
  },
  {
   "cell_type": "code",
   "execution_count": null,
   "id": "dccabfcc",
   "metadata": {},
   "outputs": [],
   "source": [
    "df_unique.head(60)"
   ]
  },
  {
   "cell_type": "code",
   "execution_count": null,
   "id": "f31e849e",
   "metadata": {},
   "outputs": [],
   "source": [
    "import pandas as pd\n",
    "\n",
    "# Adding a column that counts the number of skills in the 'Domain skills' column\n",
    "df_unique['Expert Number of Skills'] = df_unique['Domain skills'].apply(lambda x: len(x.split(',')) if isinstance(x, str) else 0)\n",
    "\n",
    "# Display the DataFrame to check the output\n",
    "print(df_unique[['Expert name', 'Domain skills', 'Expert Number of Skills']].head())"
   ]
  },
  {
   "cell_type": "code",
   "execution_count": null,
   "id": "7ec993bf",
   "metadata": {},
   "outputs": [],
   "source": [
    "df_unique.head(20)"
   ]
  },
  {
   "cell_type": "code",
   "execution_count": null,
   "id": "882daaa3",
   "metadata": {},
   "outputs": [],
   "source": [
    "df_unique.head()"
   ]
  },
  {
   "cell_type": "code",
   "execution_count": null,
   "id": "c8241d06",
   "metadata": {},
   "outputs": [],
   "source": [
    "import pandas as pd\n",
    "import random\n",
    "\n",
    "# Setting display options to show the full content of columns\n",
    "pd.set_option('display.max_colwidth', None)\n",
    "pd.set_option('display.expand_frame_repr', False)\n",
    "\n",
    "# List of domains and their corresponding skills\n",
    "domains = {\n",
    "    \"Aerospace & Aeronautics\":[\"Aerodynamics\", \"Propulsion Systems\", \"CAD & Simulation\", \"Material Science\", \"Flight Mechanics\"],\n",
    "    \"Armaments & Combat Engineering\":[\"Ballistics\", \"Mechanical Design\", \"Explosive Chemistry\", \"Systems Integration\", \"Testing & Validation\"],\n",
    "    \"Electronics & Communication\": [\"RF Engineering\", \"Embedded Systems\", \"Antenna Design\", \"Secure Communication\", \"Electronic Warfare\"],\n",
    "    \"Naval Systems\": [\"Marine Engineering\", \"Sonar Technology\", \"Hydrodynamics\", \"Weapon Integration\", \"Submarine Technology\"],\n",
    "    \"Missile & Strategic Systems\": [\"Guidance & Control\", \"Propulsion Technology\",  \"Aerodynamics\","
   ]
  }
 ],
 "metadata": {
  "language_info": {
   "name": "python"
  }
 },
 "nbformat": 4,
 "nbformat_minor": 5
}
