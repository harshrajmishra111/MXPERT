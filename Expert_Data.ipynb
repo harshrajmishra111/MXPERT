{
 "cells": [
  {
   "cell_type": "code",
   "execution_count": null,
   "id": "b4e9b14f",
   "metadata": {},
   "outputs": [],
   "source": [
    "import pandas as pd\n",
    "\n",
    "# Load the dataset\n",
    "file_path = \" \"\n",
    "df = pd.read_csv(file_path)\n",
    "\n",
    "# Display the summary of the dataset\n",
    "print(\"Summary of the dataset:\")\n",
    "print(df.describe(include='all'))\n",
    "\n",
    "# Check for missing values\n",
    "print(\"\\nMissing values in each column:\")\n",
    "print(df.isnull().sum())\n",
    "\n",
    "# If you want to see the rows with missing values\n",
    "print(\"\\nRows with missing values:\")\n",
    "print(df[df.isnull().any(axis=1)])"
   ]
  },
  {
   "cell_type": "code",
   "execution_count": null,
   "id": "b4405ea4",
   "metadata": {},
   "outputs": [],
   "source": [
    "df.head(60)"
   ]
  },
  {
   "cell_type": "code",
   "execution_count": null,
   "id": "b500df82",
   "metadata": {},
   "outputs": [],
   "source": [
    "# Remove duplicate rows based on the 'Expert name' column\n",
    "df_unique = df.drop_duplicates(subset=\"Expert name\")\n",
    "\n",
    "# Display the summary of the dataset after removing duplicates\n",
    "print(\"Summary of the dataset after removing duplicates:\")\n",
    "print(df_unique.describe(include='all'))"
   ]
  },
  {
   "cell_type": "code",
   "execution_count": null,
   "id": "43a2b5c4",
   "metadata": {},
   "outputs": [],
   "source": [
    "# Add 'Dr.' prefix to 'Expert name' if 'Qualifications' is 'PhD'\n",
    "df_unique['Expert name'] = df_unique.apply(\n",
    "    lambda row: f\"Dr. {row['Expert name']}\" if row['Qualifications'] == 'PhD' else row['Expert name'],\n",
    "    axis=1\n",
    ")"
   ]
  }
 ],
 "metadata": {
  "language_info": {
   "name": "python"
  }
 },
 "nbformat": 4,
 "nbformat_minor": 5
}
