{
 "cells": [
  {
   "cell_type": "code",
   "execution_count": null,
   "id": "b4e9b14f",
   "metadata": {},
   "outputs": [],
   "source": [
    "import pandas as pd\n",
    "\n",
    "# Load the dataset\n",
    "file_path = \" \"\n",
    "df = pd.read_csv(file_path)\n",
    "\n",
    "# Display the summary of the dataset\n",
    "print(\"Summary of the dataset:\")\n",
    "print(df.describe(include='all'))\n",
    "\n",
    "# Check for missing values\n",
    "print(\"\\nMissing values in each column:\")"
   ]
  },
  {
   "cell_type": "code",
   "execution_count": null,
   "id": "b4405ea4",
   "metadata": {},
   "outputs": [],
   "source": []
  },
  {
   "cell_type": "code",
   "execution_count": null,
   "id": "b500df82",
   "metadata": {},
   "outputs": [],
   "source": []
  },
  {
   "cell_type": "code",
   "execution_count": null,
   "id": "43a2b5c4",
   "metadata": {},
   "outputs": [],
   "source": []
  }
 ],
 "metadata": {
  "language_info": {
   "name": "python"
  }
 },
 "nbformat": 4,
 "nbformat_minor": 5
}
