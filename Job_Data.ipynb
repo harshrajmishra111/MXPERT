{
 "cells": [
  {
   "cell_type": "code",
   "execution_count": null,
   "id": "452cc626",
   "metadata": {},
   "outputs": [],
   "source": [
    "import pandas as pd\n",
    "\n",
    "file_path = \"path \"\n",
    "data = pd.read_csv(file_path)\n",
    "\n",
    "# Display the first few rows of the dataset\n",
    "print(data.head())\n"
   ]
  },
  {
   "cell_type": "code",
   "execution_count": null,
   "id": "e82cb2bb",
   "metadata": {},
   "outputs": [],
   "source": [
    "import pandas as pd\n",
    "import random\n",
    "\n",
    "# Domains and corresponding skills\n",
    "domain_skills = {\n",
    "    \"Aerospace & Aeronautics\": [\"Aerodynamics\", \"Propulsion Systems\",\"CAD & Simulation\", \"Material Science\", \"Flight Mechanics\"],\n",
    "    \"Armaments & Combat Engineering\": [\"Ballistics\", \"Mechanical Design\", \"Explosive Chemistry\", \"Systems Integration\", \"Testing & Validation\"],\n",
    "    \"Electronics & Communication\": [\"RF Engineering\", \"Embedded Systems\", \"Antenna Design\", \"Secure Communication\", \"Electronic Warfare\"],\n",
    "    \"Naval Systems\": [\"Marine Engineering\", \"Sonar Technology\", \"Hydrodynamics\", \"Weapon Integration\", \"Submarine Technology\"],\n",
    "    \"Missile & Strategic Systems\": [\"Guidance & Control\", \"Propulsion Technology\", \"Aerodynamics\", \"System Integration\", \"Simulation & Modeling\"],\n",
    "    \"Life Sciences\": [\"Biomedical Engineering\", \"Physiology\", \"Biotechnology\", \"Environmental Science\", \"Nutrition Science\"],\n",
    "    \"Materials & Metallurgy\": [\"Material Science\" \"Metallurgy\", \"Composite Materials\", \"Nanotechnology\", \"Failure Analysis\"],\n",
    "    \"Nuclear Technology\": [\"Nuclear Physics\", \"Nuclear Engineering\", \"Radiation Protection\", \"Nuclear Weapons Design\", \"Safety Protocols\"],\n",
    "    \"Cybersecurity & Information Technology\": [\"Cyber Defense\", \"Cryptography\", \"Ethical Hacking\", \"Network Security\", \"Simulation & Modeling\"],\n",
    "    \"Robotics & Autonomous Systems\": [\"Robotics Engineering\", \"AI & Machine Learning\", \"Control Systems\", \"Sensors & Actuators\", \"Path Planning\"],\n",
    "    \"Guidance & Control Systems\": [\"Inertial Navigation\", \"Control Theory\", \"Sensor Fusion\", \"Embedded Systems\", \"Algorithm Development\"],\n",
    "    \"Chemical & Biological Defense\": [\"Chemical Engineering\", \"Biotechnology\", \"Detection Systems\", \"Protective Gear Design\", \"Decontamination\"],\n",
    "    \"Energy Systems\": [\"Power Electronics\", \"Battery Technology\", \"Renewable Energy\", \"Directed Energy\", \"Thermal Management\"],\n",
    "    \"Simulation & Training\": [\"Simulation Modeling\", \"Virtual Reality (VR)\", \"Game Design\", \"Flight Simulation\", \"Scenario Development\"],\n",
    "    \"Artificial Intelligence & Machine Learning\": [\"Machine Learning Algorithms\", \"Natural Language Processing\", \"Computer Vision\", \"Predictive Analytics\", \"Autonomous Systems\"]\n",
    "}\n",
    "\n",
    "# Assigning random domains and corresponding skills for the entire dataset\n",
    "data['Domain'] = data.apply(lambda x: random.choice(list(domain_skills.keys())), axis=1)\n",
    "\n",
    "data['Skills Required'] = data['Domain'].apply(lambda domain: \", \".join(random.sample(domain_skills[domain], 3)))\n",
    "\n",
    "# Updating the \"Year of Experience\" column with random values between 0 and 4\n",
    "data['Year of Experience'] = data['Year of Experience'].apply(lambda x: random.randint(0, 4))\n",
    "\n",
    "# To display the full content of the \"Skills Required\" column without truncation\n",
    "pd.set_option('display.max_colwidth', None)\n",
    "\n",
    "# Display the updated DataFrame\n",
    "print(data)\n",
    "\n",
    "# Optionally, save the updated DataFrame back to a CSV file\n",
    "data.to_csv('Job_dataset.csv', index=False)"
   ]
  },
  {
   "cell_type": "code",
   "execution_count": null,
   "id": "682b5383",
   "metadata": {},
   "outputs": [],
   "source": [
    "data.head(40)"
   ]
  }
 ],
 "metadata": {
  "kernelspec": {
   "display_name": "Python 3",
   "language": "python",
   "name": "python3"
  },
  "language_info": {
   "name": "python",
   "version": "3.12.11"
  }
 },
 "nbformat": 4,
 "nbformat_minor": 5
}
