{
 "cells": [
  {
   "cell_type": "code",
   "execution_count": null,
   "id": "452cc626",
   "metadata": {},
   "outputs": [],
   "source": [
    "import pandas as pd\n",
    "\n",
    "file_path = \"path \"\n",
    "data = pd.read_csv(file_path)\n",
    "\n",
    "# Display the first few rows of the dataset\n",
    "print(data.head())\n"
   ]
  },
  {
   "cell_type": "code",
   "execution_count": null,
   "id": "e82cb2bb",
   "metadata": {},
   "outputs": [],
   "source": [
    "import pandas as pd\n",
    "import random\n",
    "\n",
    "# Domains and corresponding skills\n",
    "domain_skills = {\n",
    "    \"Aerospace & Aeronautics\": [\"Aerodynamics\", \"Propulsion Systems\",\"CAD & Simulation\", \"Material Science\", \"Flight Mechanics\"],\n",
    "    \"Armaments & Combat Engineering\": [\"Ballistics\", \"Mechanical Design\", \"Explosive Chemistry\", \"Systems Integration\", \"Testing & Validation\"],\n",
    "    \"Electronics & Communication\": [\"RF Engineering\", \"Embedded Systems\", \"Antenna Design\", \"Secure Communication\", \"Electronic Warfare\"],\n",
    "    \"Naval Systems\": [\"Marine Engineering\", \"Sonar Technology\", \"Hydrodynamics\", \"Weapon Integration\", \"Submarine Technology\"],\n",
    "    \"Missile & Strategic Systems\": [\"Guidance & Control\", \"Propulsion Technology\", \"Aerodynamics\", \"System Integration\", \"Simulation & Modeling\"],\n",
    "    \"Life Sciences\": [\"Biomedical Engineering\", \"Physiology\", \"Biotechnology\", \"Environmental Science\", \"Nutrition Science\"],\n",
    "    \"Materials & Metallurgy\": [\"Material Science\" \"Metallurgy\", \"Composite Materials\", \"Nanotechnology\", \"Failure Analysis\"],\n",
    "    \"Nuclear Technology\": [\"Nuclear Physics\", \"Nuclear Engineering\", \"Radiation Protection\", \"Nuclear Weapons Design\", \"Safety Protocols\"],\n",
    "    \"Cybersecurity & Information Technology\": [\"Cyber Defense\", \"Cryptography\", \"Ethical Hacking\", \"Network Security\", \"Simulation & Modeling\"],\n",
    "    \"Robotics & Autonomous Systems\": [\"Robotics Engineering\", \"AI & Machine Learning\", \"Control Systems\", \"Sensors & Actuators\", \"Path Planning\"],\n",
    "    \"Guidance & Control Systems\": [\"Inertial Navigation\", \"Control Theory\", \"Sensor Fusion\", \"Embedded Systems\", \"Algorithm Development\"],\n",
    "    \"Chemical & Biological Defense\": [\"Chemical Engineering\", \"Biotechnology\", \"Detection Systems\", \"Protective Gear Design\", \"Decontamination\"],\n",
    "    \"Energy Systems\": [\"Power Electronics\", \"Battery Technology\", \"Renewable Energy\", \"Directed Energy\", \"Thermal Management\"],\n",
    "    \"Simulation & Training\": [\"Simulation Modeling\", \"Virtual Reality (VR)\", \"Game Design\", \"Flight Simulation\", \"Scenario Development\"],\n",
    "    \"Artificial Intelligence & Machine Learning\": [\"Machine Learning Algorithms\", \"Natural Language Processing\", \"Computer Vision\", \"Predictive Analytics\", \"Autonomous Systems\"]\n",
    "}\n",
    "\n",
    "# Assigning random domains and corresponding skills for the entire dataset\n",
    "data['Domain'] = data.apply(lambda x:"
   ]
  }
 ],
 "metadata": {
  "kernelspec": {
   "display_name": "Python 3",
   "language": "python",
   "name": "python3"
  },
  "language_info": {
   "name": "python",
   "version": "3.12.11"
  }
 },
 "nbformat": 4,
 "nbformat_minor": 5
}
