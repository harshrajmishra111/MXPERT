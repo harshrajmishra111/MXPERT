{
 "cells": [
  {
   "cell_type": "code",
   "execution_count": null,
   "id": "452cc626",
   "metadata": {},
   "outputs": [],
   "source": [
    "import pandas as pd\n",
    "\n",
    "file_path = \"path \"\n",
    "data = pd.read_csv(file_path)\n",
    "\n",
    "# Display the first few rows of the dataset\n",
    "print(data.head())\n"
   ]
  },
  {
   "cell_type": "code",
   "execution_count": null,
   "id": "e82cb2bb",
   "metadata": {},
   "outputs": [],
   "source": [
    "import pandas as pd\n",
    "import random\n",
    "\n",
    "# Domains and corresponding skills\n",
    "domain_skills = {\n",
    "    \"Aerospace & Aeronautics\": [\"Aerodynamics\", \"Propulsion Systems\",\"CAD & Simulation\", \"Material Science\", \"Flight Mechanics\"],\n",
    "    \"Armaments & Combat Engineering\": [\"Ballistics\", \"Mechanical Design\", \"Explosive Chemistry\", \"Systems Integration\", \"Testing & Validation\"],\n",
    "    \"Electronics & Communication\": [\"RF Engineering\", \"Embedded Systems\", \"Antenna Design\", \"Secure Communication\", \"Electronic Warfare\"],\n",
    "    \"Naval Systems\": [\"Marine Engineering\", \"Sonar Technology\", \"Hydrodynamics\", \"Weapon Integration\", \"Submarine Technology\"],\n",
    "    \"Missile & Strategic Systems\": [\"Guidance & Control\", \"Propulsion Technology\", \"Aerodynamics\", \"System Integration\", \"Simulation & Modeling\"],\n",
    "    \"Life Sciences\": [\"Biomedical Engineering\", \"Physiology\", \"Biotechnology\", \"Environmental Science\", \"Nutrition Science\"],\n",
    "    \"Materials & Metallurgy\": [\"Material Science\" \"Metallurgy\", \"Composite Materials\", \"Nanotechnology\", \"Failure Analysis\"],\n",
    "    \"Nuclear Technology\": [\"Nuclear Physics\", \"Nuclear Engineering\", \"Radiation Protection\", \"Nuclear Weapons Design\","
   ]
  }
 ],
 "metadata": {
  "kernelspec": {
   "display_name": "Python 3",
   "language": "python",
   "name": "python3"
  },
  "language_info": {
   "name": "python",
   "version": "3.12.11"
  }
 },
 "nbformat": 4,
 "nbformat_minor": 5
}
